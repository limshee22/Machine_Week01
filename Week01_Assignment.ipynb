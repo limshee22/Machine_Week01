{
 "cells": [
  {
   "cell_type": "code",
   "execution_count": 1,
   "metadata": {},
   "outputs": [],
   "source": [
    "import numpy as np\n",
    "import matplotlib.pyplot as plt\n",
    "import random\n",
    "import pandas as pd"
   ]
  },
  {
   "cell_type": "code",
   "execution_count": 2,
   "metadata": {},
   "outputs": [],
   "source": [
    "#기하 질량 함수 구현\n",
    "def Geomatric_fn(p, x):\n",
    "    gmf = (1-p)**(x-1) * p\n",
    "    return gmf"
   ]
  },
  {
   "cell_type": "code",
   "execution_count": 3,
   "metadata": {},
   "outputs": [
    {
     "data": {
      "text/html": [
       "<div>\n",
       "<style scoped>\n",
       "    .dataframe tbody tr th:only-of-type {\n",
       "        vertical-align: middle;\n",
       "    }\n",
       "\n",
       "    .dataframe tbody tr th {\n",
       "        vertical-align: top;\n",
       "    }\n",
       "\n",
       "    .dataframe thead th {\n",
       "        text-align: right;\n",
       "    }\n",
       "</style>\n",
       "<table border=\"1\" class=\"dataframe\">\n",
       "  <thead>\n",
       "    <tr style=\"text-align: right;\">\n",
       "      <th></th>\n",
       "      <th>attempts</th>\n",
       "      <th>properties</th>\n",
       "      <th>results</th>\n",
       "    </tr>\n",
       "  </thead>\n",
       "  <tbody>\n",
       "    <tr>\n",
       "      <th>0</th>\n",
       "      <td>9</td>\n",
       "      <td>0.1</td>\n",
       "      <td>0.043047</td>\n",
       "    </tr>\n",
       "    <tr>\n",
       "      <th>1</th>\n",
       "      <td>4</td>\n",
       "      <td>0.8</td>\n",
       "      <td>0.006400</td>\n",
       "    </tr>\n",
       "    <tr>\n",
       "      <th>2</th>\n",
       "      <td>1</td>\n",
       "      <td>0.9</td>\n",
       "      <td>0.900000</td>\n",
       "    </tr>\n",
       "    <tr>\n",
       "      <th>3</th>\n",
       "      <td>2</td>\n",
       "      <td>0.8</td>\n",
       "      <td>0.160000</td>\n",
       "    </tr>\n",
       "    <tr>\n",
       "      <th>4</th>\n",
       "      <td>1</td>\n",
       "      <td>0.2</td>\n",
       "      <td>0.200000</td>\n",
       "    </tr>\n",
       "  </tbody>\n",
       "</table>\n",
       "</div>"
      ],
      "text/plain": [
       "   attempts  properties   results\n",
       "0         9         0.1  0.043047\n",
       "1         4         0.8  0.006400\n",
       "2         1         0.9  0.900000\n",
       "3         2         0.8  0.160000\n",
       "4         1         0.2  0.200000"
      ]
     },
     "metadata": {},
     "output_type": "display_data"
    }
   ],
   "source": [
    "attempts = []\n",
    "properties = []\n",
    "results = []\n",
    "for x in range(5):\n",
    "\n",
    "    #->동전 앞면이 나올 확률 선택\n",
    "    #0~1까지 랜덤 숫자 선택\n",
    "    num = random.uniform(0,1)\n",
    "    #소수점 아래 1자리까지만 선택\n",
    "    p = round(num, 1)\n",
    "    properties.append(p)\n",
    "\n",
    "    #-> 성공까지 시도 횟수 선택 (1~10)\n",
    "    x = random.randint(1, 10)\n",
    "    attempts.append(x)\n",
    "\n",
    "    #-> 기하 분포\n",
    "    gmf = Geomatric_fn(p, x)\n",
    "    results.append(gmf)\n",
    "    \n",
    "df = pd.DataFrame({\"attempts\": attempts, \"properties\": properties, \"results\": results})\n",
    "display(df)"
   ]
  },
  {
   "cell_type": "code",
   "execution_count": 4,
   "metadata": {},
   "outputs": [
    {
     "data": {
      "image/png": "[encoded data removed]",
      "text/plain": [
       "<Figure size 640x480 with 1 Axes>"
      ]
     },
     "metadata": {},
     "output_type": "display_data"
    }
   ],
   "source": [
    "# 동전 앞면이 나올 확률\n",
    "p = 0.5\n",
    "\n",
    "result = {}\n",
    "#1~10까지 성공할때까지 몇 번 시도했는지 (확률 변수 x) 변화에 따른 기하 분포 확인\n",
    "for x in range(1, 11):\n",
    "    gmf = Geomatric_fn(p, x)\n",
    "    result[x] = gmf\n",
    "\n",
    "#성공할때까지 몇 번 시도했는지\n",
    "x = list(result.keys())\n",
    "#기하 분포\n",
    "y = list(result.values())\n",
    "\n",
    "#그래프로 표현\n",
    "plt.plot(x, y, 'bo-')\n",
    "plt.xlabel('Number of attempts')\n",
    "plt.ylabel('Probability')\n",
    "plt.show()\n",
    "\n"
   ]
  },
  {
   "cell_type": "code",
   "execution_count": null,
   "metadata": {},
   "outputs": [],
   "source": []
  }
 ],
 "metadata": {
  "kernelspec": {
   "display_name": "mailab",
   "language": "python",
   "name": "python3"
  },
  "language_info": {
   "codemirror_mode": {
    "name": "ipython",
    "version": 3
   },
   "file_extension": ".py",
   "mimetype": "text/x-python",
   "name": "python",
   "nbconvert_exporter": "python",
   "pygments_lexer": "ipython3",
   "version": "3.11.0"
  }
 },
 "nbformat": 4,
 "nbformat_minor": 2
}
